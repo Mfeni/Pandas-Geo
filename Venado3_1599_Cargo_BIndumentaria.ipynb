{
  "cells": [
    {
      "cell_type": "markdown",
      "metadata": {
        "id": "view-in-github",
        "colab_type": "text"
      },
      "source": [
        "<a href=\"https://colab.research.google.com/github/Mfeni/Pandas-Geo/blob/main/Venado3_1599_Cargo_BIndumentaria.ipynb\" target=\"_parent\"><img src=\"https://colab.research.google.com/assets/colab-badge.svg\" alt=\"Open In Colab\"/></a>"
      ]
    },
    {
      "cell_type": "markdown",
      "metadata": {
        "id": "th7kZ_7ptXCO"
      },
      "source": [
        "Pulsa el símbolo de \"play\" y observa la imagen que se muestra.\n",
        "*Si quieres que la imagen cambie un poco puedes pulsar play otra vez."
      ]
    },
    {
      "cell_type": "code",
      "execution_count": null,
      "metadata": {
        "colab": {
          "base_uri": "https://localhost:8080/",
          "height": 317
        },
        "id": "Mb9o_96Pseak",
        "outputId": "bac7d28a-53ac-4049-e9cd-ff14892af1bd"
      },
      "outputs": [
        {
          "output_type": "display_data",
          "data": {
            "text/plain": [
              "<PIL.Image.Image image mode=RGB size=300x300>"
            ],
            "image/png": "[encoded data removed]"
          },
          "metadata": {}
        }
      ],
      "source": [
        "from google.colab.patches import cv2_imshow #necesario para ver imagenes en el mismo cuadernillo\n",
        "import cv2 #importamos las librerias\n",
        "import numpy as np\n",
        "import random\n",
        "\n",
        "def lienzo(size):\n",
        "  lienzo= size*3\n",
        "  img = np.ones((lienzo,lienzo,3),dtype=np.uint8) #utilizamos la funcion ones\n",
        "  return img\n",
        "\n",
        "def cuadrado(size,linea,img):\n",
        "  cv2.line(img,(size, size), (size*2, size), (0, 0, 255), linea)\n",
        "  cv2.line(img,(size, size), (size, size*2), (0, 0, 255), linea)\n",
        "  cv2.line(img,(size*2, size), (size*2, size*2), (0, 0, 255), linea)\n",
        "  cv2.line(img,(size, size*2), (size*2, size*2), (0, 0, 255), linea)\n",
        "\n",
        "def dibujo(n,size): #ngrano (297)\n",
        "  img= lienzo(size)\n",
        "  cuadrado(size,2,img)\n",
        "  for i in range(n):\n",
        "    cv2.circle(img,(random.randint(0,size*3),random.randint(0,size*3)),2,(30,233,247),-1)\n",
        "\n",
        "  RGB_img = cv2.cvtColor(img, cv2.COLOR_BGR2RGB)\n",
        "  cv2_imshow(img)\n",
        "  cv2.imwrite('Venado.1599.B.Crg_Indumentaria.jpg', RGB_img)\n",
        "dibujo(433,100)"
      ]
    },
    {
      "cell_type": "markdown",
      "metadata": {
        "id": "Qd2lBwsl9AT9"
      },
      "source": [
        "Pulsa el siguiente \"play\" que está abajo"
      ]
    },
    {
      "cell_type": "code",
      "execution_count": null,
      "metadata": {
        "colab": {
          "base_uri": "https://localhost:8080/"
        },
        "id": "i4X3bzOJChWE",
        "outputId": "150972e4-0b60-4016-86e7-1b1f53bb36c0"
      },
      "outputs": [
        {
          "output_type": "stream",
          "name": "stdout",
          "text": [
            "Hola, Soy Realengo. La imagen que viste nos ayudará a calculara calcular Hola Soy Mariana D\n",
            "  el reparto de los bienes de paz en Venado del año 1599. ¡Comencemos !\n",
            "¿Que reparto te tocó calcular?: \n",
            "  A. Granos o plantas\n",
            "  B. Indumentaria\n",
            "  C. Instrumentos para manufactura\n",
            "  D. Herramientas para trabajo\n",
            "  E. Analizar el reparto\n",
            "Me tocó la opción: b\n",
            "En el año de 1599, se encargó al capitán Gabriel Ortíz de Fuenmayor\n",
            "    que trajera a Venado el reparto de ropa para dar a los indios. Se le entregaron\n",
            "    huipiles, frazadas, sombreros (finos y comunes), camisas y zapatos.\n",
            "    El juego consiste en saber cuánto debía repartir en total.\n",
            "    Observa cuidadosamente la imagen, cada punto representa \"4\" y el cuadro pequeño cabe\n",
            "    nueve veces en el cuadro negro\n",
            "¿De cuánto fue el reparto?: 1800\n",
            "El 1800 es mayor al reparto\n",
            "¿De cuánto fue el reparto?: 1700\n",
            "El 1700 es menor al reparto\n",
            "¿De cuánto fue el reparto?: 1750\n",
            "El 1750 es mayor al reparto\n",
            "¿De cuánto fue el reparto?: 1730\n",
            "El 1730 es menor al reparto\n",
            "¿De cuánto fue el reparto?: 1740\n",
            "El 1740 es mayor al reparto\n",
            "¿De cuánto fue el reparto?: 1735\n",
            "El 1735 es mayor al reparto\n",
            "¿De cuánto fue el reparto?: 1734\n",
            "El 1734 es mayor al reparto\n",
            "¿De cuánto fue el reparto?: 1733\n",
            "El 1733 es mayor al reparto\n",
            "¿De cuánto fue el reparto?: 1732\n",
            "¡¡¡ LO LOGRASTE !!!\n",
            "Por último, captura tus resultados\n",
            "Que se repartió y en total cuánto se repartió?: camisas, sombreros\n",
            "¿Como imaginas que transportaban los bienes a Venado?: en animales como caballos y mulas\n",
            "¿Que crees que hacian los indios guachichiles y tlaxcaltecas con estos bienes?: los usaban\n",
            "¿Crees que fue mucho o poco lo que les dieron a cambio de la paz?¿por qué?poco porque eran varias personas\n",
            "¡Bien, terminaste tu parte!...\n",
            "            Tu párrafo quedará así: \n",
            " En 1599, el reparto de los bienes de paz en Venado tenía camisas, sombreros,\n",
            "                  Los bienes, que venian de Zacatecas, se transportaban en animales como caballos y mulas,\n",
            "                  con estos bienes los indios los usaban y\n",
            "                  poco porque eran varias personas\n",
            "¿Quieres cambiar algo?(si/no)no\n",
            "Muy bien. Espera a que terminen los otros equipos\n"
          ]
        }
      ],
      "source": [
        "cerrar= False\n",
        "while cerrar == False:\n",
        "  print(\"\"\"Hola, Soy Realengo. La imagen que viste nos ayudará a calculara calcular Hola Soy Mariana D\n",
        "  el reparto de los bienes de paz en Venado del año 1599. ¡Comencemos !\"\"\")\n",
        "  print(\"¿Que reparto te tocó calcular?: \" )\n",
        "  print(\"  A. Granos o plantas\")\n",
        "  print(\"  B. Indumentaria\")\n",
        "  print(\"  C. Instrumentos para manufactura\")\n",
        "  print(\"  D. Herramientas para trabajo\")\n",
        "  print(\"  E. Analizar el reparto\")\n",
        "  respuesta = input(\"Me tocó la opción: \")\n",
        "  opcion=respuesta.lower()\n",
        "\n",
        "  if opcion!='a' and opcion!='b' and opcion!='c' and opcion!='d'and opcion!='e':\n",
        "    print(\" Opción no válida. Vuelve a ingresar una opción\")\n",
        "\n",
        "  if opcion=='b':\n",
        "    A1 = print(\"\"\"En el año de 1599, se encargó al capitán Gabriel Ortíz de Fuenmayor\n",
        "    que trajera a Venado el reparto de ropa para dar a los indios. Se le entregaron\n",
        "    huipiles, frazadas, sombreros (finos y comunes), camisas y zapatos.\n",
        "    El juego consiste en saber cuánto debía repartir en total.\n",
        "    Observa cuidadosamente la imagen, cada punto representa \"4\" y el cuadro pequeño cabe\n",
        "    nueve veces en el cuadro negro\"\"\")\n",
        "\n",
        "    cerrar==False\n",
        "    while True:\n",
        "      valor=int(input(\"¿De cuánto fue el reparto?: \"))\n",
        "      if valor==1732:\n",
        "        print(\"¡¡¡ LO LOGRASTE !!!\")\n",
        "        break\n",
        "      else:\n",
        "        if valor < 1732:\n",
        "          print((f'El {valor} es menor al reparto'))\n",
        "        if valor > 1732:\n",
        "          print(f'El {valor} es mayor al reparto')\n",
        "\n",
        "\n",
        "    cerrar=False\n",
        "    while cerrar==False:\n",
        "      print(\"Por último, captura tus resultados\")\n",
        "      A1= input(\"Que se repartió y en total cuánto se repartió?: \")\n",
        "      A2 = input(\"¿Como imaginas que transportaban los bienes a Venado?: \")\n",
        "      A3=  input(\"¿Que crees que hacian los indios guachichiles y tlaxcaltecas con estos bienes?: \")\n",
        "      A4= input(\"¿Crees que fue mucho o poco lo que les dieron a cambio de la paz?¿por qué?\")\n",
        "      print(\"\"\"¡Bien, terminaste tu parte!...\n",
        "            Tu párrafo quedará así: \"\"\")\n",
        "      ParrafoA=print(f''' En 1599, el reparto de los bienes de paz en Venado tenía {A1},\n",
        "                  Los bienes, que venian de Zacatecas, se transportaban {A2},\n",
        "                  con estos bienes los indios {A3} y\n",
        "                  {A4}''')\n",
        "\n",
        "      verifi=input('¿Quieres cambiar algo?(si/no)')\n",
        "      if verifi=='no'or verifi=='No'or verifi=='NO':\n",
        "        print(\"Muy bien. Espera a que terminen los otros equipos\")\n",
        "        cerrar=True\n",
        "      else:\n",
        "       cerrar =False"
      ]
    }
  ],
  "metadata": {
    "colab": {
      "provenance": [],
      "include_colab_link": true
    },
    "kernelspec": {
      "display_name": "Python 3",
      "name": "python3"
    },
    "language_info": {
      "name": "python"
    }
  },
  "nbformat": 4,
  "nbformat_minor": 0
}