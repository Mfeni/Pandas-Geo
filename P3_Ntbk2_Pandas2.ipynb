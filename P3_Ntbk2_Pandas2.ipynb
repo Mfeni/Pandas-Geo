{
  "nbformat": 4,
  "nbformat_minor": 0,
  "metadata": {
    "colab": {
      "provenance": []
    },
    "kernelspec": {
      "name": "python3",
      "display_name": "Python 3"
    },
    "language_info": {
      "name": "python"
    }
  },
  "cells": [
    {
      "cell_type": "code",
      "execution_count": 20,
      "metadata": {
        "id": "hIyAHoOtfuMU"
      },
      "outputs": [],
      "source": [
        "import pandas as pd"
      ]
    },
    {
      "cell_type": "code",
      "source": [
        "libro = {'Lugar': ['Mexquitic', 'Venado', 'Charcas', 'San Luis', 'Santa María', 'San Felipe', 'Colotlán'],\n",
        "         'Herramientas': [450, 560, 234, 500, 345, 784, 480],\n",
        "         'Indumentaria': [690,600,780,456,800,456,345]}\n",
        "df_repartos = pd.DataFrame(libro)\n",
        "print(df_repartos)"
      ],
      "metadata": {
        "id": "t33s9uCWf14N"
      },
      "execution_count": null,
      "outputs": []
    },
    {
      "cell_type": "markdown",
      "source": [
        "**COLUMNAS**"
      ],
      "metadata": {
        "id": "TGhWUoYji-vb"
      }
    },
    {
      "cell_type": "markdown",
      "source": [
        "**Asignar columnas con valores**"
      ],
      "metadata": {
        "id": "CpQfg4pzimR7"
      }
    },
    {
      "cell_type": "code",
      "source": [
        "df_repartos['Salarios']=[300,200,300,150,500,80,170]\n",
        "df_repartos['Ganado']=[0,0,0,0,0,0,0]\n",
        "print(df_repartos)"
      ],
      "metadata": {
        "id": "i8ED-AEsikms"
      },
      "execution_count": null,
      "outputs": []
    },
    {
      "cell_type": "markdown",
      "source": [
        "**Asginar varias columnas en un sólo código**"
      ],
      "metadata": {
        "id": "qkvvL0gTl39T"
      }
    },
    {
      "cell_type": "code",
      "source": [
        "df_repartos[['Grano', 'Ocio']] = [[10, 20], [30, 40], [50, 60], [70, 80], [90, 100], [110, 120], [130, 140]]\n",
        "print(df_repartos)"
      ],
      "metadata": {
        "id": "jtMSrGuHl1l-"
      },
      "execution_count": null,
      "outputs": []
    },
    {
      "cell_type": "markdown",
      "source": [
        "**Eliminar Columnas .drop**"
      ],
      "metadata": {
        "id": "DjqjfXiVjMGt"
      }
    },
    {
      "cell_type": "code",
      "source": [
        "df_repartos = df_repartos.drop('Ganado', axis=1) #para eliminar varias columnas se hace una lista\n",
        "print(df_repartos)"
      ],
      "metadata": {
        "id": "aVFXuikyjFpD"
      },
      "execution_count": null,
      "outputs": []
    },
    {
      "cell_type": "markdown",
      "source": [
        "usando **del**"
      ],
      "metadata": {
        "id": "jdl89YggjV7s"
      }
    },
    {
      "cell_type": "code",
      "source": [
        "del df_repartos['Salarios']\n",
        "df_repartos"
      ],
      "metadata": {
        "id": "i6U8_VgwjyqK"
      },
      "execution_count": null,
      "outputs": []
    },
    {
      "cell_type": "markdown",
      "source": [
        "**FILAS**"
      ],
      "metadata": {
        "id": "HWPryWHjjYK7"
      }
    },
    {
      "cell_type": "markdown",
      "source": [
        "**Asignar filas con valores**"
      ],
      "metadata": {
        "id": "SgXZB_BpgfMC"
      }
    },
    {
      "cell_type": "markdown",
      "source": [
        "Con .loc"
      ],
      "metadata": {
        "id": "dFy9SjFhgnoE"
      }
    },
    {
      "cell_type": "code",
      "source": [
        "df_repartos.loc[len(df_repartos)]= ['Armadillo', 230,100,250,7]\n",
        "print(df_repartos)"
      ],
      "metadata": {
        "id": "Lt3bt4qHf3AM"
      },
      "execution_count": null,
      "outputs": []
    },
    {
      "cell_type": "markdown",
      "source": [
        "Con .concat"
      ],
      "metadata": {
        "id": "FRxiKwh1go-c"
      }
    },
    {
      "cell_type": "code",
      "source": [
        "nwa_fila=pd.DataFrame({'Lugar': ['Río Verde'],\n",
        "                       'Herramientas': [123],\n",
        "                       'Indumentaria': [456],\n",
        "                       'Grano': [789],\n",
        "                       'Ocio': [50],\n",
        "                       })\n",
        "df_repartos=pd.concat([df_repartos,nwa_fila],ignore_index=True)\n",
        "#se debe poner ignore_index= para que añada la fila como un indice siguiente, si no empieza de 0\n",
        "df_repartos"
      ],
      "metadata": {
        "id": "NZQKIWvlgL_r"
      },
      "execution_count": null,
      "outputs": []
    },
    {
      "cell_type": "markdown",
      "source": [
        "**Agregar varias filas en un sólo código**"
      ],
      "metadata": {
        "id": "Q3oz3kpZiLPU"
      }
    },
    {
      "cell_type": "code",
      "source": [
        "mas_filas = pd.DataFrame({\n",
        "    'Lugar': ['Espíritu Santo', 'Pinos'],\n",
        "    'Herramientas': [350, 280],\n",
        "    'Indumentaria': [550, 420],\n",
        "    'Grano': [80, 60],\n",
        "    'Ocio': [30, 20]})\n",
        "df_repartos = pd.concat([df_repartos, pd.DataFrame(mas_filas)], ignore_index=True)\n",
        "df_repartos"
      ],
      "metadata": {
        "id": "Miw5ZPQ7iKQh"
      },
      "execution_count": null,
      "outputs": []
    },
    {
      "cell_type": "markdown",
      "source": [
        "**Eliminar filas**"
      ],
      "metadata": {
        "id": "yaCv4DsAhFLc"
      }
    },
    {
      "cell_type": "code",
      "source": [
        "df_repartos = df_repartos.drop(0)  # Elimina la fila con índice 0\n",
        "print(df_repartos)"
      ],
      "metadata": {
        "id": "FSgUwpjAwLFV"
      },
      "execution_count": null,
      "outputs": []
    },
    {
      "cell_type": "code",
      "source": [
        "df_repartos = df_repartos.drop([1, 2])  # Elimina las filas con índices 1 y 2\n",
        "print(df_repartos)"
      ],
      "metadata": {
        "id": "FeNO6C3owPwk"
      },
      "execution_count": null,
      "outputs": []
    },
    {
      "cell_type": "markdown",
      "source": [
        "**Reestablecer el índice**"
      ],
      "metadata": {
        "id": "rR-XI7J4xDlq"
      }
    },
    {
      "cell_type": "code",
      "source": [
        "df_repartos = df_repartos.reset_index(drop=True)  # Restablece el índice\n",
        "df_repartos"
      ],
      "metadata": {
        "id": "Pl5-7f5awdrz"
      },
      "execution_count": null,
      "outputs": []
    },
    {
      "cell_type": "markdown",
      "source": [
        "**Añadir una Columna con el Total**"
      ],
      "metadata": {
        "id": "W406kz4xpdkb"
      }
    },
    {
      "cell_type": "markdown",
      "source": [
        "con .sum()"
      ],
      "metadata": {
        "id": "0wnjHq02p0hn"
      }
    },
    {
      "cell_type": "code",
      "source": [
        "df_repartos['Total'] = df_repartos[['Herramientas', 'Indumentaria', 'Grano', 'Ocio']].sum(axis=1)\n",
        "df_repartos"
      ],
      "metadata": {
        "id": "KGSN9n68nuuL"
      },
      "execution_count": null,
      "outputs": []
    },
    {
      "cell_type": "markdown",
      "source": [
        "**Añadir fila con Totales**"
      ],
      "metadata": {
        "id": "3F18YC3Zp58y"
      }
    },
    {
      "cell_type": "code",
      "source": [
        "df_repartos.loc['total']=df_repartos.sum(numeric_only=True)\n",
        "df_repartos"
      ],
      "metadata": {
        "id": "tjrZTWi0pss5"
      },
      "execution_count": null,
      "outputs": []
    },
    {
      "cell_type": "code",
      "source": [
        "df_repartos.to_csv('df_repartos.csv', index=False)  # index=False prevents the index from being written to the CSV"
      ],
      "metadata": {
        "id": "E7PuiDjJt9uB"
      },
      "execution_count": 34,
      "outputs": []
    },
    {
      "cell_type": "markdown",
      "source": [
        "**Aprendiendo a montar My Drive**"
      ],
      "metadata": {
        "id": "fDKQtFzxT--j"
      }
    },
    {
      "cell_type": "code",
      "source": [
        "from google.colab import drive\n",
        "drive.mount('/content/drive')\n",
        "%cd /content/drive/MyDrive/Diseño Cartográfico Phyton/Parte III. Pandas, GeoPandas/Pandas_DC/\n",
        "!ls"
      ],
      "metadata": {
        "id": "s5CnqJwAL5E4"
      },
      "execution_count": null,
      "outputs": []
    },
    {
      "cell_type": "code",
      "source": [
        "df_migracion = pd.read_csv('Migracion.csv')\n",
        "df_migracion"
      ],
      "metadata": {
        "id": "A6aAH6t5SQnn"
      },
      "execution_count": null,
      "outputs": []
    }
  ]
}